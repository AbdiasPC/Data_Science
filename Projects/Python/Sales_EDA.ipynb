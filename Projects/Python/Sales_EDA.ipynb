{
 "cells": [
  {
   "cell_type": "code",
   "execution_count": null,
   "metadata": {},
   "outputs": [],
   "source": [
    "import pandas as pd\n",
    "import numpy as np"
   ]
  }
 ],
 "metadata": {
  "interpreter": {
   "hash": "acd2f3472dc268bcebd369c7f644cdb16928cca7ce14a7eaf248c6ef9212d3a4"
  },
  "kernelspec": {
   "display_name": "Python 3.9.7 64-bit ('datascienceenv': conda)",
   "language": "python",
   "name": "python3"
  },
  "language_info": {
   "name": "python",
   "version": "3.9.7"
  },
  "orig_nbformat": 4
 },
 "nbformat": 4,
 "nbformat_minor": 2
}
